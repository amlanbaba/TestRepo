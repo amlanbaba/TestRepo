{
 "cells": [
  {
   "cell_type": "markdown",
   "id": "030afa8c-9baf-4b4c-8fe3-2656a7448bd8",
   "metadata": {},
   "source": [
    "# Data Science Tools and Ecosystem "
   ]
  },
  {
   "cell_type": "markdown",
   "id": "a64119b9-553e-42fd-959c-b4a1a64e75e6",
   "metadata": {},
   "source": [
    "## Introduction\n",
    "In this notebook, Data Science Tools and Ecosystem are summarized. The journey is going to be exciting, enriching and immensely rewarding. The journey becomes more adventerous as we take along peers with us and explore new frontiers."
   ]
  },
  {
   "cell_type": "markdown",
   "id": "3eca8661-0a1d-40c5-950f-a63264bf3378",
   "metadata": {},
   "source": [
    "**Objectives:**\n",
    "- List popular languages for Data Science\n",
    "- List commonly used libraries in Data Science\n",
    "- Understand development environments for Data Science\n",
    "- Evaluate simple arithmetic expressions in Python\n",
    "- Convert units (e.g., minutes to hours) using Python"
   ]
  },
  {
   "cell_type": "markdown",
   "id": "063eb947-37b1-4f4a-9d6b-99d8f8e472ff",
   "metadata": {},
   "source": [
    "#### Some of the popular languages that Data Scientists use are:\n",
    "1. Python\n",
    "2. R\n",
    "3. SQL\n",
    "4. Julia\n",
    "5. Scala"
   ]
  },
  {
   "cell_type": "markdown",
   "id": "7fb2191a-d0b9-4ead-bf0f-c6bc78cd09d6",
   "metadata": {},
   "source": [
    "##### Some of the commonly used libraries used by Data Scientists include:\n",
    "\n",
    "1. NumPy\n",
    "2. Pandas\n",
    "3. Matplotlib\n",
    "4. Scikit-learn\n",
    "5. TensorFlow"
   ]
  },
  {
   "cell_type": "markdown",
   "id": "48fef320-14de-4d80-805b-54b1a49ad7ce",
   "metadata": {},
   "source": [
    "##### Table of Data Science Tools\n",
    "| Data Science Tools |\n",
    "|--------------------|\n",
    "| Jupyter Notebook   |\n",
    "| RStudio            |\n",
    "| Apache Zeppelin    |"
   ]
  },
  {
   "cell_type": "markdown",
   "id": "67a585ed-88fe-4029-ae10-d1566dbb8077",
   "metadata": {},
   "source": [
    "### Below are a few examples of evaluating arithmetic expressions in Python."
   ]
  },
  {
   "cell_type": "code",
   "execution_count": 3,
   "id": "3e6d7825-3e95-478b-a247-65e826df21e8",
   "metadata": {},
   "outputs": [
    {
     "data": {
      "text/plain": [
       "17"
      ]
     },
     "execution_count": 3,
     "metadata": {},
     "output_type": "execute_result"
    }
   ],
   "source": [
    "# This is a simple arithmetic expression to multiply then add integers\n",
    "(3 * 4) + 5"
   ]
  },
  {
   "cell_type": "code",
   "execution_count": 4,
   "id": "beae4226-8bbe-473f-bca0-c6bd592f68d1",
   "metadata": {},
   "outputs": [
    {
     "data": {
      "text/plain": [
       "3.3333333333333335"
      ]
     },
     "execution_count": 4,
     "metadata": {},
     "output_type": "execute_result"
    }
   ],
   "source": [
    "# This will convert 200 minutes to hours by dividing by 60\n",
    "200 / 60"
   ]
  },
  {
   "cell_type": "markdown",
   "id": "53fc4abf-25c6-4ece-8d4d-b13c2de49281",
   "metadata": {},
   "source": [
    "## Author \n",
    "Amlan Mishra"
   ]
  },
  {
   "cell_type": "code",
   "execution_count": null,
   "id": "71e06e47-a727-4244-8bd5-93fb39b5671c",
   "metadata": {},
   "outputs": [],
   "source": []
  }
 ],
 "metadata": {
  "kernelspec": {
   "display_name": "Python [conda env:AM_DS]",
   "language": "python",
   "name": "conda-env-AM_DS-py"
  },
  "language_info": {
   "codemirror_mode": {
    "name": "ipython",
    "version": 3
   },
   "file_extension": ".py",
   "mimetype": "text/x-python",
   "name": "python",
   "nbconvert_exporter": "python",
   "pygments_lexer": "ipython3",
   "version": "3.13.5"
  }
 },
 "nbformat": 4,
 "nbformat_minor": 5
}
